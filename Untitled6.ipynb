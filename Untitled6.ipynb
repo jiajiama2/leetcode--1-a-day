{
 "cells": [
  {
   "cell_type": "code",
   "execution_count": 24,
   "metadata": {},
   "outputs": [
    {
     "name": "stdout",
     "output_type": "stream",
     "text": [
      "[2, 7]\n"
     ]
    }
   ],
   "source": [
    "# step 1 - Find the difference betweemn the target and number\n",
    "# define target (aka.9 in the example.) and the nums find the difference btw the target and nums e.g start with the first number 2, the difference will be 9-2 =7\n",
    "# step 2: create a new list for the difference - e.g seen[]\n",
    "# step 3: loop the nums list through the seen[] => e.g check if the rest of the nums list =[7,11,15] is in the seen[]\n",
    "# step 4: apply the if statement => e.g 7 is in the aux_dict, then write down the number 7; 11 is not in the seen[], then add to the diff list seen[]\n",
    "# step 5: loop step 1 to 4\n",
    "\n",
    "nums = [2, 7, 11, 15]\n",
    "target = 9\n",
    "\n",
    "def twoSum(nums,target):\n",
    "    seen = []\n",
    "    for num in nums:\n",
    "        if target - num in seen:\n",
    "            a=[target-num,num]\n",
    "            return a\n",
    "        else:\n",
    "            seen.append(num)\n",
    "    return False\n",
    "\n",
    "print(twoSum(nums, target))\n"
   ]
  },
  {
   "cell_type": "code",
   "execution_count": null,
   "metadata": {},
   "outputs": [],
   "source": []
  }
 ],
 "metadata": {
  "kernelspec": {
   "display_name": "Python 3",
   "language": "python",
   "name": "python3"
  },
  "language_info": {
   "codemirror_mode": {
    "name": "ipython",
    "version": 3
   },
   "file_extension": ".py",
   "mimetype": "text/x-python",
   "name": "python",
   "nbconvert_exporter": "python",
   "pygments_lexer": "ipython3",
   "version": "3.7.3"
  }
 },
 "nbformat": 4,
 "nbformat_minor": 2
}
